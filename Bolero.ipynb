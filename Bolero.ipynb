{
  "nbformat": 4,
  "nbformat_minor": 0,
  "metadata": {
    "colab": {
      "provenance": []
    },
    "kernelspec": {
      "name": "python3",
      "display_name": "Python 3"
    },
    "language_info": {
      "name": "python"
    }
  },
  "cells": [
    {
      "cell_type": "code",
      "execution_count": null,
      "metadata": {
        "colab": {
          "base_uri": "https://localhost:8080/"
        },
        "id": "sPtLqEUui0Xs",
        "outputId": "3955f260-558f-48cc-a66f-76598f388d81"
      },
      "outputs": [
        {
          "output_type": "stream",
          "name": "stdout",
          "text": [
            "0.168\n",
            "1/6\n",
            "\n",
            "    Cast on 35.0 sts. \n",
            "    Knit in stockinette for 125.0 rows.\n",
            "    Decrease 1 sts every 6 row.\n",
            "    Sew 39.0 rows from both ends. The last 6.0 sts sew 2 bottom sts to 1 top sts.\n",
            "    \n"
          ]
        }
      ],
      "source": [
        "from fractions import Fraction\n",
        "\n",
        "def bolero(gauge_s: int, gauge_r: int, armpit: int, bicep: int, length: int, arm_length: int, wrist: int, n_ease: int, fitted):\n",
        "  armpit_sts = (armpit-n_ease)*gauge_s/10\n",
        "  if fitted == False:\n",
        "    row = (length/10)*gauge_r\n",
        "    arm_row = (arm_length/10)*gauge_r\n",
        "    double_sew_rows = (6/10)*gauge_r\n",
        "    text = f\"\"\"Cast on {armpit_sts} sts.\n",
        "    Knit in stockinette for {row} rows.\n",
        "    Sew {arm_row} rows from both ends. The last {double_sew_rows} sts sew 2 bottom sts to 1 top sts.\"\"\"\n",
        "  if fitted == True:\n",
        "    wrist_sts = (wrist*gauge_s)/10\n",
        "    row = (length/10)*gauge_r\n",
        "    dec = (armpit_sts - wrist_sts)/row\n",
        "    print(dec)\n",
        "    f = Fraction(dec).limit_denominator(10)\n",
        "    print(f)\n",
        "    arm_row = (arm_length/10)*gauge_r\n",
        "    double_sew_rows = (6/10)*gauge_r\n",
        "    text = f\"\"\"\n",
        "    Cast on {armpit_sts} sts.\n",
        "    Knit in stockinette for {row} rows.\n",
        "    Decrease {f.numerator} sts every {f.denominator} row.\n",
        "    Sew {arm_row} rows from both ends. The last {double_sew_rows} sts sew 2 bottom sts to 1 top sts.\n",
        "    \"\"\"\n",
        "\n",
        "  print(text)\n",
        "\n",
        "if __name__ == \"__main__\":\n",
        "  #10cm gauge\n",
        "  gauge_s = 10\n",
        "  gauge_r = 10\n",
        "\n",
        "  #bolero measurement in cm\n",
        "  armpit = 39\n",
        "  bicep = 33\n",
        "  n_ease = 4\n",
        "  length = 125\n",
        "  arm_length = 39\n",
        "  wrist = 14\n",
        "\n",
        "  #modifications\n",
        "  fitted = True\n",
        "\n",
        "  bolero(gauge_s, gauge_r, armpit, bicep, length, arm_length, wrist, n_ease, fitted)"
      ]
    },
    {
      "cell_type": "code",
      "source": [],
      "metadata": {
        "id": "idITDTSY4Bx1"
      },
      "execution_count": null,
      "outputs": []
    }
  ]
}